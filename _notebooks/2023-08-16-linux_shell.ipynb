{
 "cells": [
  {
   "attachments": {},
   "cell_type": "markdown",
   "metadata": {},
   "source": [
    "---\n",
    "layout: post\n",
    "title: Linux Shell and Bash\n",
    "description: A Tech Talk on Linux and the Bash shell.\n",
    "toc: true\n",
    "comments: true\n",
    "categories: [5.A, C4.1]\n",
    "courses: { csse: {week: 1}, csp: {week: 1, categories: [6.B]}, csa: {week: 1} }\n",
    "type: devops\n",
    "---"
   ]
  },
  {
   "attachments": {},
   "cell_type": "markdown",
   "metadata": {},
   "source": [
    "## xxx Bash Tutorial\n",
    "> A brief overview of Bash, on your way to becoming a Linux expert.  When a computer boots up, a kernel (MacOS, Windows, Linux) is started.  This kernel provides a shell that allows user to interact with a most basic set of commands.  Typically, the casual user will not interact with the shell as a Desktop User Interface is started by the computer boot up process.  To activate a shell directly, users will run a \"terminal\" through the Desktop. VS Code provides ability to activate \"terminal\" while in the IDE."
   ]
  },
  {
   "attachments": {},
   "cell_type": "markdown",
   "metadata": {},
   "source": [
    "## Prerequisites\n",
    "> Setup bash shell dependency variables for this page.\n",
    "\n",
    "- Hack: Change variables to match your project."
   ]
  },
  {
   "cell_type": "code",
   "execution_count": 2,
   "metadata": {
    "vscode": {
     "languageId": "shellscript"
    }
   },
   "outputs": [],
   "source": [
    "%%script bash\n",
    "\n",
    "# Dependency Variables, set to match your project directories\n",
    "\n",
    "cat <<EOF > /tmp/variables.sh\n",
    "export project_dir=$HOME/vscode  # change vscode to different name to test git clone\n",
    "export project=\\$project_dir/teacher  # change teacher to name of project from git clone\n",
    "export project_repo=\"https://github.com/nighthawkcoders/teacher.git\"  # change to project of choice\n",
    "EOF"
   ]
  },
  {
   "cell_type": "code",
   "execution_count": 3,
   "metadata": {
    "vscode": {
     "languageId": "shellscript"
    }
   },
   "outputs": [
    {
     "name": "stdout",
     "output_type": "stream",
     "text": [
      "Project dir: /Users/patrickhastings/vscode\n",
      "Project: /Users/patrickhastings/vscode/teacher\n",
      "Repo: https://github.com/nighthawkcoders/teacher.git\n"
     ]
    }
   ],
   "source": [
    "%%script bash\n",
    "\n",
    "# Extract saved variables\n",
    "source /tmp/variables.sh\n",
    "\n",
    "# Access the variables\n",
    "echo \"Project dir: $project_dir\"\n",
    "echo \"Project: $project\"\n",
    "echo \"Repo: $project_repo\""
   ]
  },
  {
   "attachments": {},
   "cell_type": "markdown",
   "metadata": {},
   "source": [
    "## Setup Project\n",
    "> Pull code from GitHub to your machine. This script will create a project directory and add \"project\" from GitHub to the vscode directory.  There is conditional logic to make sure that clone only happen if it does not (!) exist."
   ]
  },
  {
   "cell_type": "code",
   "execution_count": 4,
   "metadata": {
    "vscode": {
     "languageId": "shellscript"
    }
   },
   "outputs": [
    {
     "name": "stdout",
     "output_type": "stream",
     "text": [
      "Using conditional statement to create a project directory and project\n",
      "Directory /Users/patrickhastings/vscode exists.\n",
      "Directory /Users/patrickhastings/vscode/teacher exists.\n"
     ]
    }
   ],
   "source": [
    "%%script bash\n",
    "\n",
    "# Extract saved variables\n",
    "source /tmp/variables.sh\n",
    "\n",
    "echo \"Using conditional statement to create a project directory and project\"\n",
    "\n",
    "cd ~    # start in home directory\n",
    "\n",
    "# Conditional block to make a project directory\n",
    "if [ ! -d $project_dir ]\n",
    "then \n",
    "    echo \"Directory $project_dir does not exists... makinng directory $project_dir\"\n",
    "    mkdir -p $project_dir\n",
    "fi\n",
    "echo \"Directory $project_dir exists.\" \n",
    "\n",
    "# Conditional block to git clone a project from project_repo\n",
    "if [ ! -d $project ]\n",
    "then\n",
    "    echo \"Directory $project does not exists... cloning $project_repo\"\n",
    "    cd $project_dir\n",
    "    git clone $project_repo\n",
    "    cd ~\n",
    "fi\n",
    "echo \"Directory $project exists.\" "
   ]
  },
  {
   "attachments": {},
   "cell_type": "markdown",
   "metadata": {},
   "source": [
    "### Look at files Github project\n",
    "> All computers contain files and directories.  The clone brought more files from cloud to your machine.  Review the bash shell script observe the commands that show and interact with files and directories.\n",
    "\n",
    "- \"ls\" lists computer files in Unix and Unix-like operating systems\n",
    "- \"cd\" offers way to navigate and change working directory\n",
    "- \"pwd\" print working directory\n",
    "- \"echo\" used to display line of text/string that are passed as an argument"
   ]
  },
  {
   "cell_type": "code",
   "execution_count": 5,
   "metadata": {
    "vscode": {
     "languageId": "shellscript"
    }
   },
   "outputs": [
    {
     "name": "stdout",
     "output_type": "stream",
     "text": [
      "Navigate to project, then navigate to area wwhere files were cloned\n",
      "/Users/patrickhastings/vscode/teacher\n",
      "\n",
      "list top level or root of files with project pulled from github\n",
      "Gemfile\n",
      "LICENSE\n",
      "Makefile\n",
      "README.md\n",
      "_config.yml\n",
      "\u001b[34m_data\u001b[m\u001b[m\n",
      "\u001b[34m_includes\u001b[m\u001b[m\n",
      "\u001b[34m_layouts\u001b[m\u001b[m\n",
      "\u001b[34m_notebooks\u001b[m\u001b[m\n",
      "\u001b[34m_posts\u001b[m\u001b[m\n",
      "\u001b[34massets\u001b[m\u001b[m\n",
      "csa.md\n",
      "csp.md\n",
      "csse.md\n",
      "\u001b[34mimages\u001b[m\u001b[m\n",
      "index.md\n",
      "indexBlogs.md\n",
      "\u001b[34mscripts\u001b[m\u001b[m\n"
     ]
    }
   ],
   "source": [
    "%%script bash\n",
    "\n",
    "# Extract saved variables\n",
    "source /tmp/variables.sh\n",
    "\n",
    "echo \"Navigate to project, then navigate to area wwhere files were cloned\"\n",
    "cd $project\n",
    "pwd\n",
    "\n",
    "echo \"\"\n",
    "echo \"list top level or root of files with project pulled from github\"\n",
    "ls\n"
   ]
  },
  {
   "attachments": {},
   "cell_type": "markdown",
   "metadata": {},
   "source": [
    "### Look at file list with hidden and long attributes\n",
    "> Most linux commands have options to enhance behavior\n",
    "\n",
    "[ls reference](https://www.rapidtables.com/code/linux/ls.html)"
   ]
  },
  {
   "cell_type": "code",
   "execution_count": 6,
   "metadata": {
    "vscode": {
     "languageId": "shellscript"
    }
   },
   "outputs": [
    {
     "name": "stdout",
     "output_type": "stream",
     "text": [
      "Navigate to project, then navigate to area wwhere files were cloned\n",
      "/Users/patrickhastings/vscode/teacher\n",
      "\n",
      "list all files in long format\n",
      "total 104\n",
      "drwxr-xr-x  23 patrickhastings  staff   736 Aug 18 14:10 \u001b[34m.\u001b[m\u001b[m\n",
      "drwxr-xr-x   4 patrickhastings  staff   128 Aug 22 13:51 \u001b[34m..\u001b[m\u001b[m\n",
      "drwxr-xr-x  12 patrickhastings  staff   384 Aug 18 14:10 \u001b[34m.git\u001b[m\u001b[m\n",
      "drwxr-xr-x   3 patrickhastings  staff    96 Aug 18 14:10 \u001b[34m.github\u001b[m\u001b[m\n",
      "-rw-r--r--   1 patrickhastings  staff   157 Aug 18 14:10 .gitignore\n",
      "-rw-r--r--   1 patrickhastings  staff   122 Aug 18 14:10 Gemfile\n",
      "-rw-r--r--   1 patrickhastings  staff  1081 Aug 18 14:10 LICENSE\n",
      "-rw-r--r--   1 patrickhastings  staff  3114 Aug 18 14:10 Makefile\n",
      "-rw-r--r--   1 patrickhastings  staff  8036 Aug 18 14:10 README.md\n"
     ]
    },
    {
     "name": "stdout",
     "output_type": "stream",
     "text": [
      "-rw-r--r--   1 patrickhastings  staff   607 Aug 18 14:10 _config.yml\n",
      "drwxr-xr-x   6 patrickhastings  staff   192 Aug 18 14:10 \u001b[34m_data\u001b[m\u001b[m\n",
      "drwxr-xr-x  11 patrickhastings  staff   352 Aug 18 14:10 \u001b[34m_includes\u001b[m\u001b[m\n",
      "drwxr-xr-x   6 patrickhastings  staff   192 Aug 18 14:10 \u001b[34m_layouts\u001b[m\u001b[m\n",
      "drwxr-xr-x  38 patrickhastings  staff  1216 Aug 18 14:10 \u001b[34m_notebooks\u001b[m\u001b[m\n",
      "drwxr-xr-x  12 patrickhastings  staff   384 Aug 18 14:10 \u001b[34m_posts\u001b[m\u001b[m\n",
      "drwxr-xr-x   4 patrickhastings  staff   128 Aug 18 14:10 \u001b[34massets\u001b[m\u001b[m\n",
      "-rw-r--r--   1 patrickhastings  staff    92 Aug 18 14:10 csa.md\n",
      "-rw-r--r--   1 patrickhastings  staff    98 Aug 18 14:10 csp.md\n",
      "-rw-r--r--   1 patrickhastings  staff   108 Aug 18 14:10 csse.md\n",
      "drwxr-xr-x  34 patrickhastings  staff  1088 Aug 18 14:10 \u001b[34mimages\u001b[m\u001b[m\n",
      "-rw-r--r--   1 patrickhastings  staff  5149 Aug 18 14:10 index.md\n",
      "-rw-r--r--   1 patrickhastings  staff    53 Aug 18 14:10 indexBlogs.md\n",
      "drwxr-xr-x   7 patrickhastings  staff   224 Aug 18 14:10 \u001b[34mscripts\u001b[m\u001b[m\n"
     ]
    }
   ],
   "source": [
    "%%script bash\n",
    "\n",
    "# Extract saved variables\n",
    "source /tmp/variables.sh\n",
    "\n",
    "echo \"Navigate to project, then navigate to area wwhere files were cloned\"\n",
    "cd $project\n",
    "pwd\n",
    "\n",
    "echo \"\"\n",
    "echo \"list all files in long format\"\n",
    "ls -al   # all files -a (hidden) in -l long listing"
   ]
  },
  {
   "cell_type": "code",
   "execution_count": 7,
   "metadata": {
    "vscode": {
     "languageId": "shellscript"
    }
   },
   "outputs": [
    {
     "name": "stdout",
     "output_type": "stream",
     "text": [
      "Look for posts\n",
      "/Users/patrickhastings/vscode/teacher/_posts\n",
      "total 176\n",
      "-rw-r--r--  1 patrickhastings  staff   7685 Aug 18 14:10 2023-08-16-Tools_Equipment.md\n",
      "-rw-r--r--  1 patrickhastings  staff   4650 Aug 18 14:10 2023-08-16-pair_programming.md\n",
      "-rw-r--r--  1 patrickhastings  staff   7137 Aug 18 14:10 2023-08-17-markdown-html_fragments.md\n",
      "-rw-r--r--  1 patrickhastings  staff   6659 Aug 18 14:10 2023-08-23-javascript-calculator.md\n",
      "-rw-r--r--  1 patrickhastings  staff  10642 Aug 18 14:10 2023-08-30-agile_methodolgy.md\n",
      "-rw-r--r--  1 patrickhastings  staff   3849 Aug 18 14:10 2023-08-30-javascript-music-api.md\n",
      "-rw-r--r--  1 patrickhastings  staff   5312 Aug 18 14:10 2023-09-06-javascript-motion-mario-oop.md\n",
      "-rw-r--r--  1 patrickhastings  staff   4812 Aug 18 14:10 2023-09-13-java-free_response.md\n",
      "-rw-r--r--  1 patrickhastings  staff  13220 Aug 18 14:10 2023-10-16-java-api-pojo-jpa.md\n",
      "-rw-r--r--  1 patrickhastings  staff   6819 Aug 18 14:10 2023-11-13-jwt-java-spring.md\n"
     ]
    }
   ],
   "source": [
    "%%script bash\n",
    "\n",
    "# Extract saved variables\n",
    "source /tmp/variables.sh\n",
    "\n",
    "echo \"Look for posts\"\n",
    "export posts=$project/_posts  # _posts inside project\n",
    "cd $posts  # this should exist per fastpages\n",
    "pwd  # present working directory\n",
    "ls -l  # list posts"
   ]
  },
  {
   "cell_type": "code",
   "execution_count": 47,
   "metadata": {
    "vscode": {
     "languageId": "shellscript"
    }
   },
   "outputs": [
    {
     "name": "stdout",
     "output_type": "stream",
     "text": [
      "Look for notebooks\n",
      "/Users/johnmortensen/vscode/teacher/_notebooks\n",
      "total 344\n",
      "-rw-r--r--  1 johnmortensen  staff  37377 Jun 11 10:35 2023-05-30-linux_shell.ipynb\n",
      "-rw-r--r--  1 johnmortensen  staff   7706 Jun 11 09:04 2023-05-31-VSCode-GitHub-project.ipynb\n",
      "-rw-r--r--  1 johnmortensen  staff   9292 Jun 11 08:47 2023-06-01-javascript-input.ipynb\n",
      "-rw-r--r--  1 johnmortensen  staff  11477 Jun 11 04:39 2023-06-01-python_hello.ipynb\n",
      "-rw-r--r--  1 johnmortensen  staff  44353 Jun 11 08:06 2023-06-02-javascript_output.ipynb\n",
      "-rw-r--r--  1 johnmortensen  staff  15666 Jun 11 08:48 2023-06-03-javascript_api.ipynb\n",
      "-rw-r--r--  1 johnmortensen  staff  20550 Jun 11 09:06 2023-06-04-AWS-deployment.ipynb\n",
      "-rw-r--r--  1 johnmortensen  staff  16271 Jun 11 04:39 2023-06-08-JWT-python.ipynb\n"
     ]
    }
   ],
   "source": [
    "%%script bash\n",
    "\n",
    "# Extract saved variables\n",
    "source /tmp/variables.sh\n",
    "\n",
    "echo \"Look for notebooks\"\n",
    "export notebooks=$project/_notebooks  # _notebooks is inside project\n",
    "cd $notebooks   # this should exist per fastpages\n",
    "pwd  # present working directory\n",
    "ls -l  # list notebooks"
   ]
  },
  {
   "cell_type": "code",
   "execution_count": 48,
   "metadata": {
    "vscode": {
     "languageId": "shellscript"
    }
   },
   "outputs": [
    {
     "name": "stdout",
     "output_type": "stream",
     "text": [
      "Look for images in notebooks, print working directory, list files\n",
      "/Users/johnmortensen/vscode/teacher/_notebooks\n"
     ]
    },
    {
     "name": "stderr",
     "output_type": "stream",
     "text": [
      "bash: line 6: cd: /images: No such file or directory\n"
     ]
    },
    {
     "name": "stdout",
     "output_type": "stream",
     "text": [
      "total 344\n",
      "-rw-r--r--  1 johnmortensen  staff  37377 Jun 11 10:35 2023-05-30-linux_shell.ipynb\n",
      "-rw-r--r--  1 johnmortensen  staff   7706 Jun 11 09:04 2023-05-31-VSCode-GitHub-project.ipynb\n",
      "-rw-r--r--  1 johnmortensen  staff   9292 Jun 11 08:47 2023-06-01-javascript-input.ipynb\n",
      "-rw-r--r--  1 johnmortensen  staff  11477 Jun 11 04:39 2023-06-01-python_hello.ipynb\n",
      "-rw-r--r--  1 johnmortensen  staff  44353 Jun 11 08:06 2023-06-02-javascript_output.ipynb\n",
      "-rw-r--r--  1 johnmortensen  staff  15666 Jun 11 08:48 2023-06-03-javascript_api.ipynb\n",
      "-rw-r--r--  1 johnmortensen  staff  20550 Jun 11 09:06 2023-06-04-AWS-deployment.ipynb\n",
      "-rw-r--r--  1 johnmortensen  staff  16271 Jun 11 04:39 2023-06-08-JWT-python.ipynb\n"
     ]
    }
   ],
   "source": [
    "%%script bash\n",
    "\n",
    "# Extract saved variables\n",
    "source /tmp/variables.sh\n",
    "\n",
    "echo \"Look for images in notebooks, print working directory, list files\"\n",
    "cd $notebooks/images  # this should exist per fastpages\n",
    "pwd\n",
    "ls -l"
   ]
  },
  {
   "attachments": {},
   "cell_type": "markdown",
   "metadata": {},
   "source": [
    "### Look inside a Markdown File\n",
    "> \"cat\" reads data from the file and gives its content as output"
   ]
  },
  {
   "cell_type": "code",
   "execution_count": 1,
   "metadata": {
    "vscode": {
     "languageId": "shellscript"
    }
   },
   "outputs": [
    {
     "name": "stdout",
     "output_type": "stream",
     "text": [
      "Navigate to project, then navigate to area wwhere files were cloned\n",
      "show the contents of README.md\n",
      "\n",
      "## Teacher Blog site\n",
      "This site is intended for the development of Teacher content.  This blogging site is built using GitHub Pages [GitHub Pages](https://docs.github.com/en/pages/getting-started-with-github-pages/creating-a-github-pages-site).\n",
      "- The purpose is to build lessons and distribute across different Computer Science sections (CSSE, CSP, CSA), a pathway that covers 3 years of High School Instruction.\n",
      "- The primary languages and frameworks that are taught are `JavaScript/HTML/CSS`, `Python/Flask`, `Java/Spring`.  Read below for more details.\n",
      "- In this course, Teacher content is not exclusively developed by Teachers.  In fact, many Students have been invited to develop and publish content into this repository.  Their names will appear as authors on the content which they aided in producing.\n",
      "- This site has incorporated ideas and has radically modified scripts from the now deprecated [fastpages](https://github.com/fastai/fastpages) repository.\n",
      "- This site includes assistance and guideance from ChatGPT, [chat.openai.com](https://chat.openai.com/) \n",
      "\n",
      "### Courses and Pathway\n",
      "The focus of the Del Norte Computer Science three-year pathway is `Full Stack Web Development`.  This focus provides a variety of technologies and exposures.  The intention of the pathway is breadth and exposure.\n",
      "- `JavaScript` documents are focused on frontend development and for entry class into the Del Norte Computer Science pathway.  JavaScript documents and materials are a prerequisites to Python and Java classes.\n",
      "- `Python` documents are focused on backend development and requirements for the AP Computer Science Principles exam.\n",
      "- `Java` documents are focused on backend development and requirements for the AP Computer Sciene A exam.\n",
      "- `Data Structures` materials embedded into JavaScript, Python, or Java documents are focused on college course articulation.\n",
      "\n",
      "### Resources and Instruction\n",
      "The materials, such as this README, as well as `Tools`, `DevOps`, and `Collaboration` resources are integral part of this course and Computer Science in general.  Everything in our environment is part of our learning of Computer Science. \n",
      "- `Visual Studio Code` is key the code-build-debug cycle editor used in this course, [VSCode download](https://code.visualstudio.com/).  This is an example of a resource, but inside of it it has features for collaboration.\n",
      "- `Tech Talks`, aka lectures, are intended to be interactive and utilize `Jupyter Notebooks` and Websites.  This is an example of blending instruction and tools together, which in turn provide additional resources for learning.  For instance, deep knowledge on  GitHub Pages and Notebooks are valuable in understanding principles behind Full Stack Development and Data Science. \n",
      "\n",
      "## GitHub Pages\n",
      "All `GitHub Pages` websites are managed on GitHub infrastructure. GitHub uses `Jekyll` to tranform your content into static websites and blogs. Each time we change files in GitHub it initiates a GitHub Action that rebuilds and publishes the site with Jekyll.  \n",
      "- GitHub Pages is powered by: [Jekyll](https://jekyllrb.com/).\n",
      "- Publised teacher website: [nighthawkcoders.github.io/teacher](https://nighthawkcoders.github.io/teacher/)\n",
      "\n",
      "## Preparing a Preview Site \n",
      "In all development, it is recommended to test your code before deployment.  The GitHub Pages development process is optimized by testing your development on your local machine, prior to files on GitHub\n",
      "\n",
      "Development Cycle. For GitHub pages, the tooling described below will create a development cycle  `make-code-save-preview`.  In the development cycle, it is a requirement to preview work locally, prior to doing a VSCode `commit` to git.\n",
      "\n",
      "Deployment Cycle.  In the deplopyment cycle, `sync-github-action-review`, it is a requirement to complete the development cycle prior to doing a VSCode `sync`.  The sync triggers github repository update.  The action starts the jekyll build to publish the website.  Any step can have errors and will require you to do a review.\n",
      "\n",
      "### WSL and/or Ubuntu installation requirements\n",
      "- The result of these step is Ubuntu tools to run preview server.  These procedures were created using [jekyllrb.com](https://jekyllrb.com/docs/installation/ubuntu/)\n",
      "```bash\n",
      "# Ubuntu requirements\n",
      "#\n",
      "echo \"=== Install Ruby ===\"\n",
      "# sudo apt install. installs packages for Ubuntu\n",
      "sudo apt install ruby-full build-essential zlib1g-dev -y\n",
      "# the following \"echo\" commands adds gems installation directory into the .bashrc file, avoiding root requirements\n",
      "echo '# Install Ruby Gems to ~/gems' >> ~/.bashrc\n",
      "echo 'export GEM_HOME=\"$HOME/gems\"' >> ~/.bashrc\n",
      "echo 'export PATH=\"$HOME/gems/bin:$PATH\"' >> ~/.bashrc\n",
      "#\n",
      "echo \"=== Install Jekyl ===\"\n",
      "gem install jekyll bundler\n",
      "#\n",
      "echo \"=== Install Conda ===\"\n",
      "wget https://repo.anaconda.com/miniconda/Miniconda3-latest-Linux-x86.sh -O /tmp/miniconda.sh\n",
      "chmod +x /tmp/miniconda.sh\n",
      "/tmp/miniconda.sh -b -p $HOME/miniconda\n",
      "# Configure ruby into shell\n"
     ]
    },
    {
     "name": "stdout",
     "output_type": "stream",
     "text": [
      "# source the .bashrc file or relanuch terminal\n",
      "# update conda\n",
      "~/miniconda/bin/conda update -n base -y -c defaults conda\n",
      "~/miniconda/bin/conda install -y -c conda-forge pyyam\n",
      "echo \"=== Activate Conda  ===\"\n",
      "source ~/.bashrc\n",
      "```\n",
      "\n",
      "### MacOs installation requirements \n",
      "- Ihe result of these step are MacOS tools to run preview server.  These procedures were created using [jekyllrb.com](https://jekyllrb.com/docs/installation/macos/)\n",
      "```bash\n",
      "# ruby\n",
      "# MacOS commands\n",
      "#\n",
      "# Install Ruby for MacOS\n",
      "brew install chruby ruby-install xz\n",
      "ruby-install ruby 3.1.3\n",
      "# Configure ruby into shell using .zshrc\n",
      "echo \"source $(brew --prefix)/opt/chruby/share/chruby/chruby.sh\" >> ~/.zshrc\n",
      "echo \"source $(brew --prefix)/opt/chruby/share/chruby/auto.sh\" >> ~/.zshrc\n",
      "echo '# Install Ruby Gems to ~/gems' >> ~/.zshrc\n",
      "echo 'export GEM_HOME=\"$HOME/gems\"' >> ~/.zshrc\n",
      "echo 'export PATH=\"$HOME/gems/bin:$PATH\"' >> ~/.zshrc\n",
      "#\n",
      "# install conda for MacOS\n",
      "wget https://repo.anaconda.com/miniconda/Miniconda3-latest-MacOSX-x86_64.sh -O /tmp/miniconda.sh\n",
      "bash /tmp/miniconda.sh -b -p $HOME/miniconda\n",
      "#\n",
      "# source the .zshrc file or relanuch terminal\n",
      "source ~/.zshrc\n",
      "#\n",
      "# update conda\n",
      "conda update -n base -y -c defaults conda\n",
      "#\n",
      "# Install local build tools\n",
      "gem install jekyll bundler\n",
      "#\n",
      "conda install -y -c conda-forge pyyam\n",
      "# install jekyll\n",
      "gem install jekyll bundler\n",
      "```\n",
      "\n",
      "### Preview\n",
      "- The result of these step is server running on: http://0.0.0.0:4100/teacher/.  Regeneration messages will run in terminal on any save.  Press the Enter or Return key in the terminal at any time to enter commands.\n",
      "\n",
      "- Complete installation\n",
      "```bash\n",
      "bundle install\n",
      "```\n",
      "- Run Server.  This requires running terminal commands `make`, `make stop`, `make clean`, or `make convert` to manage the running server.  Logging of details will appear in terminal.   A `Makefile` has been created in project to support commands and start processes.\n",
      "\n",
      "    - Start preview server in terminal\n",
      "    ```bash\n",
      "    cd ~/vscode/teacher  # my project location, adapt as necessary\n",
      "    make\n",
      "    ```\n",
      "\n",
      "    - Terminal output of shows server address. Cmd or Ctl click http location to open preview server in browser. Example Server address message... \n",
      "    ```\n",
      "    Server address: http://0.0.0.0:4100/teacher/\n",
      "    ```\n",
      "\n",
      "    - Save on ipynb or md activiates \"regeneration\". Refresh browser to see updates. Example terminal message...\n",
      "    ```\n",
      "    Regenerating: 1 file(s) changed at 2023-07-31 06:54:32\n",
      "        _notebooks/2024-01-04-cockpit-setup.ipynb\n",
      "    ```\n",
      "\n",
      "    - Terminal message are generated from background processes.  Click return or enter to obtain prompt and use terminal as needed for other tasks.  Alway return to root of project `cd ~/vscode/teacher` for all \"make\" actions. \n",
      "        \n",
      "\n",
      "    - Stop preview server, but leave constructed files in project for your review.\n",
      "    ```bash\n",
      "    make stop\n",
      "    ```\n",
      "\n",
      "    - Stop server and \"clean\" constructed files, best choice when renaming files to eliminate potential duplicates in constructed files.\n",
      "    ```bash\n",
      "    make clean\n",
      "    ```\n",
      "\n",
      "    - Test notebook conversions, best choice to see if IPYNB conversion is acting up.\n",
      "    ```bash\n",
      "    make convert\n",
      "    ```\n",
      "    \n",
      "\n",
      "end of README.md\n"
     ]
    }
   ],
   "source": [
    "%%script bash\n",
    "\n",
    "# Extract saved variables\n",
    "source /tmp/variables.sh\n",
    "\n",
    "echo \"Navigate to project, then navigate to area wwhere files were cloned\"\n",
    "\n",
    "cd $project\n",
    "echo \"show the contents of README.md\"\n",
    "echo \"\"\n",
    "\n",
    "cat README.md  # show contents of file, in this case markdown\n",
    "echo \"\"\n",
    "echo \"end of README.md\"\n"
   ]
  },
  {
   "attachments": {},
   "cell_type": "markdown",
   "metadata": {},
   "source": [
    "### Env, Git and GitHub\n",
    "> Env(ironment) is used to capture things like path to Code or Home directory.  Git and GitHub is NOT Only used to exchange code between individuals, it is often used to exchange code through servers, in our case deployment for Website.   All tools we use have a behind the scenes hav relationship with the system they run on (MacOS, Windows, Linus) or a relationship with servers which they are connected to (ie GitHub).  There is an \"env\" command in bash.  There are environment files and setting files (.git/config) for Git.  They both use a key/value concept.\n",
    "\n",
    "- \"env\" show setting for your shell\n",
    "- \"git clone\" sets up a director of files\n",
    "- \"cd $project\" allows user to move inside that directory of files\n",
    "- \".git\" is a hidden directory that is used by git to establish relationship between machine and the git server on GitHub.  "
   ]
  },
  {
   "cell_type": "code",
   "execution_count": 51,
   "metadata": {
    "vscode": {
     "languageId": "shellscript"
    }
   },
   "outputs": [
    {
     "name": "stdout",
     "output_type": "stream",
     "text": [
      "Show the shell environment variables, key on left of equal value on right\n",
      "\n",
      "VSCODE_CLI=1\n",
      "NIX_PROFILES=/nix/var/nix/profiles/default /Users/johnmortensen/.nix-profile\n",
      "VSCODE_CRASH_REPORTER_PROCESS_TYPE=extensionHost\n",
      "TERM_PROGRAM=Apple_Terminal\n",
      "TERM=xterm-color\n",
      "SHELL=/bin/bash\n",
      "CLICOLOR=1\n",
      "VSCODE_CRASH_REPORTER_SANDBOXED_HINT=1\n",
      "TMPDIR=/var/folders/_n/7k1b0n557ng0fkmw74pd5cx00000gn/T/\n",
      "CONDA_SHLVL=1\n",
      "PYTHONUNBUFFERED=1\n",
      "TERM_PROGRAM_VERSION=447\n",
      "CONDA_PROMPT_MODIFIER=(base) \n",
      "ORIGINAL_XDG_CURRENT_DESKTOP=undefined\n",
      "MallocNanoZone=0\n",
      "PYDEVD_USE_FRAME_EVAL=NO\n",
      "TERM_SESSION_ID=9056DE5B-8519-46AC-8C0A-42B5FFE425B9\n",
      "PYTHONIOENCODING=utf-8\n",
      "USER=johnmortensen\n",
      "COMMAND_MODE=unix2003\n",
      "CONDA_EXE=/Users/johnmortensen/opt/anaconda3/bin/conda\n",
      "SSH_AUTH_SOCK=/private/tmp/com.apple.launchd.htDuJuikD5/Listeners\n",
      "__CF_USER_TEXT_ENCODING=0x1F5:0x0:0x0\n",
      "PAGER=cat\n",
      "ELECTRON_RUN_AS_NODE=1\n",
      "VSCODE_AMD_ENTRYPOINT=vs/workbench/api/node/extensionHostProcess\n",
      "_CE_CONDA=\n",
      "CONDA_ROOT=/Users/johnmortensen/opt/anaconda3\n",
      "PATH=/Users/johnmortensen/opt/anaconda3/bin:/opt/local/bin:/opt/local/sbin:/Users/johnmortensen/opt/anaconda3/bin:/Users/johnmortensen/opt/anaconda3/condabin:/Users/johnmortensen/.nix-profile/bin:/nix/var/nix/profiles/default/bin:/usr/local/bin:/System/Cryptexes/App/usr/bin:/usr/bin:/bin:/usr/sbin:/sbin:/usr/local/share/dotnet:~/.dotnet/tools:/Library/Apple/usr/bin:/Library/Frameworks/Mono.framework/Versions/Current/Commands:/var/run/com.apple.security.cryptexd/codex.system/bootstrap/usr/local/bin:/var/run/com.apple.security.cryptexd/codex.system/bootstrap/usr/bin:/var/run/com.apple.security.cryptexd/codex.system/bootstrap/usr/appleinternal/bin\n",
      "LaunchInstanceID=06C30390-0D51-4B11-A295-4C30C5E96711\n",
      "__CFBundleIdentifier=com.microsoft.VSCode\n",
      "CONDA_PREFIX=/Users/johnmortensen/opt/anaconda3\n",
      "PWD=/Users/johnmortensen/vscode/teacher/_notebooks\n",
      "VSCODE_HANDLES_UNCAUGHT_ERRORS=true\n",
      "ELECTRON_NO_ATTACH_CONSOLE=1\n",
      "MPLBACKEND=module://matplotlib_inline.backend_inline\n",
      "LANG=en_US.UTF-8\n",
      "XPC_FLAGS=0x0\n",
      "NIX_SSL_CERT_FILE=/nix/var/nix/profiles/default/etc/ssl/certs/ca-bundle.crt\n",
      "FORCE_COLOR=1\n",
      "_CE_M=\n",
      "XPC_SERVICE_NAME=0\n",
      "SHLVL=5\n",
      "HOME=/Users/johnmortensen\n",
      "APPLICATION_INSIGHTS_NO_DIAGNOSTIC_CHANNEL=1\n",
      "VSCODE_NLS_CONFIG={\"locale\":\"en-us\",\"osLocale\":\"en-us\",\"availableLanguages\":{},\"_languagePackSupport\":true}\n",
      "PYDEVD_IPYTHON_COMPATIBLE_DEBUGGING=1\n",
      "LOGNAME=johnmortensen\n",
      "CONDA_PYTHON_EXE=/Users/johnmortensen/opt/anaconda3/bin/python\n",
      "VSCODE_IPC_HOOK=/Users/johnmortensen/Library/Application Support/Code/1.78-main.sock\n",
      "VSCODE_CODE_CACHE_PATH=/Users/johnmortensen/Library/Application Support/Code/CachedData/b3e4e68a0bc097f0ae7907b217c1119af9e03435\n",
      "CLICOLOR_FORCE=1\n",
      "CONDA_DEFAULT_ENV=base\n",
      "VSCODE_PID=2146\n",
      "GIT_PAGER=cat\n",
      "VSCODE_L10N_BUNDLE_LOCATION=\n",
      "VSCODE_CWD=/Users/johnmortensen/vscode/teacher\n",
      "SECURITYSESSIONID=186a6\n",
      "_=/usr/bin/env\n"
     ]
    }
   ],
   "source": [
    "%%script bash\n",
    "\n",
    "# This command has no dependencies\n",
    "\n",
    "echo \"Show the shell environment variables, key on left of equal value on right\"\n",
    "echo \"\"\n",
    "\n",
    "env"
   ]
  },
  {
   "cell_type": "code",
   "execution_count": 52,
   "metadata": {
    "vscode": {
     "languageId": "shellscript"
    }
   },
   "outputs": [
    {
     "name": "stdout",
     "output_type": "stream",
     "text": [
      "\n",
      "show the secrets of .git\n",
      "total 72\n",
      "-rw-r--r--   1 johnmortensen  staff     9 Jun 11 09:09 COMMIT_EDITMSG\n",
      "-rw-r--r--   1 johnmortensen  staff   102 Jun 11 09:09 FETCH_HEAD\n",
      "-rw-r--r--   1 johnmortensen  staff    21 Jun 11 04:39 HEAD\n",
      "-rw-r--r--   1 johnmortensen  staff    41 Jun 11 09:09 ORIG_HEAD\n",
      "drwxr-xr-x   2 johnmortensen  staff    64 Jun 11 04:39 \u001b[34mbranches\u001b[m\u001b[m\n",
      "-rw-r--r--   1 johnmortensen  staff   312 Jun 11 04:39 config\n",
      "-rw-r--r--   1 johnmortensen  staff    73 Jun 11 04:39 description\n",
      "drwxr-xr-x  13 johnmortensen  staff   416 Jun 11 04:39 \u001b[34mhooks\u001b[m\u001b[m\n",
      "-rw-r--r--   1 johnmortensen  staff  4695 Jun 11 09:09 index\n",
      "drwxr-xr-x   3 johnmortensen  staff    96 Jun 11 04:39 \u001b[34minfo\u001b[m\u001b[m\n",
      "drwxr-xr-x   4 johnmortensen  staff   128 Jun 11 04:39 \u001b[34mlogs\u001b[m\u001b[m\n",
      "drwxr-xr-x  34 johnmortensen  staff  1088 Jun 11 09:09 \u001b[34mobjects\u001b[m\u001b[m\n",
      "-rw-r--r--   1 johnmortensen  staff   112 Jun 11 04:39 packed-refs\n",
      "drwxr-xr-x   5 johnmortensen  staff   160 Jun 11 04:39 \u001b[34mrefs\u001b[m\u001b[m\n",
      "\n",
      "look at config file\n",
      "[core]\n",
      "\trepositoryformatversion = 0\n",
      "\tfilemode = true\n",
      "\tbare = false\n",
      "\tlogallrefupdates = true\n",
      "\tignorecase = true\n",
      "\tprecomposeunicode = true\n",
      "[remote \"origin\"]\n",
      "\turl = https://github.com/nighthawkcoders/teacher.git\n",
      "\tfetch = +refs/heads/*:refs/remotes/origin/*\n",
      "[branch \"main\"]\n",
      "\tremote = origin\n",
      "\tmerge = refs/heads/main\n"
     ]
    }
   ],
   "source": [
    "%%script bash\n",
    "\n",
    "# Extract saved variables\n",
    "source /tmp/variables.sh\n",
    "\n",
    "cd $project\n",
    "\n",
    "echo \"\"\n",
    "echo \"show the secrets of .git\"\n",
    "cd .git\n",
    "ls -l\n",
    "\n",
    "echo \"\"\n",
    "echo \"look at config file\"\n",
    "cat config"
   ]
  },
  {
   "attachments": {},
   "cell_type": "markdown",
   "metadata": {},
   "source": [
    "### Student Request - Make a file in Bash\n",
    "> This example was requested by a student (Jun Lim, CSA). The request was to make jupyer file using bash, I adapted the request to markdown.  This type of thought will have great extrapolation to coding and possibilities of using List, Arrays, or APIs to build user interfaces.  JavaScript is a language where building HTML is very common.\n",
    "\n",
    "> To get more interesting output from terminal, this will require using something like mdless (https://github.com/ttscoff/mdless).  This enables see markdown in rendered format.\n",
    "- On Desktop [Install PKG from MacPorts](https://www.macports.org/install.php)\n",
    "- In Terminal on MacOS\n",
    "    - [Install ncurses](https://ports.macports.org/port/ncurses/)\n",
    "    - ```gem install mdless```\n",
    "    \n",
    "> Output of the example is much nicer in \"jupyter\""
   ]
  },
  {
   "cell_type": "code",
   "execution_count": 53,
   "metadata": {
    "vscode": {
     "languageId": "shellscript"
    }
   },
   "outputs": [
    {
     "name": "stdout",
     "output_type": "stream",
     "text": [
      "\n",
      "File listing and status\n",
      "-rw-r--r--  1 johnmortensen  wheel  809 Jun 11 10:43 sample.md\n",
      "      15     132     809 sample.md\n",
      "\n",
      "\u001b[0m\u001b[0;1;47;90mShow Generated Markdown \u001b[0;2;30;47m========================================================\u001b[0m\n",
      "\n",
      "This introductory paragraph and this line and the title above are generated\n",
      "using tee with the standard input (<<) redirection operator.\n",
      "\u001b[0;1;91m- \u001b[0;1;91m\u001b[0;97mThis \u001b[0;97mbulleted \u001b[0;97melement \u001b[0;97mis \u001b[0;97mstill \u001b[0;97mpart \u001b[0;97mof \u001b[0;97mthe \u001b[0;97mtee \u001b[0;97mbody.\n",
      "\u001b[0;1;91m- \u001b[0;1;91m\u001b[0;97mThis \u001b[0;97mbulleted \u001b[0;97melement \u001b[0;97mand \u001b[0;97mlines \u001b[0;97mbelow \u001b[0;97mare \u001b[0;97mgenerated \u001b[0;97musing \u001b[0;97mecho \u001b[0;97mwith \u001b[0;97mstandard\n",
      "\u001b[0;97moutput \u001b[0;97m(>>) \u001b[0;97mredirection \u001b[0;97moperator.\n",
      "\u001b[0;1;91m- \u001b[0;1;91m\u001b[0;97mThe \u001b[0;97mlist \u001b[0;97mdefinition, \u001b[0;97mas \u001b[0;97mis, \u001b[0;97mis \u001b[0;97musing \u001b[0;97mspace \u001b[0;97mto \u001b[0;97mseperate \u001b[0;97mlines. \u001b[0;97mThus \u001b[0;97mthe \u001b[0;97muse \u001b[0;97mof\n",
      "\u001b[0;97mcommas \u001b[0;97mand \u001b[0;97mhyphens \u001b[0;97min \u001b[0;97moutput.\n",
      "      \u001b[0;1;91m- \u001b[0;1;91m\u001b[0;97mls: \u001b[0;97mlist \u001b[0;97mdirectory\n",
      "      \u001b[0;1;91m- \u001b[0;1;91m\u001b[0;97mcd: \u001b[0;97mchange \u001b[0;97mdirectory\n",
      "      \u001b[0;1;91m- \u001b[0;1;91m\u001b[0;97mpwd: \u001b[0;97mpresent \u001b[0;97mworking \u001b[0;97mdirectory\n",
      "      \u001b[0;1;91m- \u001b[0;1;91m\u001b[0;97mif \u001b[0;97mthen \u001b[0;97mfi: \u001b[0;97mtest \u001b[0;97mcondition\n",
      "      \u001b[0;1;91m- \u001b[0;1;91m\u001b[0;97menv: \u001b[0;97mbash \u001b[0;97menvironment \u001b[0;97mvariables\n",
      "      \u001b[0;1;91m- \u001b[0;1;91m\u001b[0;97mcat: \u001b[0;97mview \u001b[0;97mfile \u001b[0;97mcontents\n",
      "      \u001b[0;1;91m- \u001b[0;1;91m\u001b[0;97mtee: \u001b[0;97mwrite \u001b[0;97mto \u001b[0;97moutput\n",
      "      \u001b[0;1;91m- \u001b[0;1;91m\u001b[0;97mecho: \u001b[0;97mdisplay \u001b[0;97mcontent \u001b[0;97mof \u001b[0;97mstring\n",
      "      \u001b[0;1;91m- \u001b[0;1;91m\u001b[0;97mecho \u001b[0;97m\"sample \u001b[0;97mtext\" \u001b[0;97m>$file: \u001b[0;97mwrite \u001b[0;97mcontent \u001b[0;97mto \u001b[0;97mfile\n",
      "      \u001b[0;1;91m- \u001b[0;1;91m\u001b[0;97mecho \u001b[0;97m\"sample \u001b[0;97mtext\" \u001b[0;97m>>$file: \u001b[0;97mappend \u001b[0;97mcontent \u001b[0;97mto \u001b[0;97mfile\n",
      "\n",
      "\u001b[0m"
     ]
    }
   ],
   "source": [
    "%%script bash\n",
    "\n",
    "# This example has error in VSCode, it run best on Jupyter\n",
    "cd /tmp\n",
    "\n",
    "file=\"sample.md\"\n",
    "if [ -f \"$file\" ]; then\n",
    "    rm $file\n",
    "fi\n",
    "\n",
    "tee -a $file >/dev/null <<EOF\n",
    "# Show Generated Markdown\n",
    "This introductory paragraph and this line and the title above are generated using tee with the standard input (<<) redirection operator.\n",
    "- This bulleted element is still part of the tee body.\n",
    "EOF\n",
    "\n",
    "echo \"- This bulleted element and lines below are generated using echo with standard output (>>) redirection operator.\" >> $file\n",
    "echo \"- The list definition, as is, is using space to seperate lines.  Thus the use of commas and hyphens in output.\" >> $file\n",
    "actions=(\"ls,list-directory\" \"cd,change-directory\" \"pwd,present-working-directory\" \"if-then-fi,test-condition\" \"env,bash-environment-variables\" \"cat,view-file-contents\" \"tee,write-to-output\" \"echo,display-content-of-string\" \"echo_text_>\\$file,write-content-to-file\" \"echo_text_>>\\$file,append-content-to-file\")\n",
    "for action in ${actions[@]}; do  # for loop is very similar to other language, though [@], semi-colon, do are new\n",
    "  action=${action//-/ }  # convert dash to space\n",
    "  action=${action//,/: } # convert comma to colon\n",
    "  action=${action//_text_/ \\\"sample text\\\" } # convert _text_ to sample text, note escape character \\ to avoid \"\" having meaning\n",
    "  echo \"    - ${action//-/ }\" >> $file  # echo is redirected to file with >>\n",
    "done\n",
    "\n",
    "echo \"\"\n",
    "echo \"File listing and status\"\n",
    "ls -l $file # list file\n",
    "wc $file   # show words\n",
    "mdless $file  # this requires installation, but renders markown from terminal\n",
    "\n",
    "rm $file  # clean up termporary file"
   ]
  },
  {
   "attachments": {},
   "cell_type": "markdown",
   "metadata": {},
   "source": [
    "## Hack Preparation.\n",
    "> Review Tool Setup Procedures and think about some thing you could verify through a Shell notebook.\n",
    "- Come up with your own student view of this procedure to show your tools are installed.\n",
    "- Name and create notes on some Linux commands you will use frequently.\n",
    "- Is there anything we use to verify tools we install? Review versions checks.\n",
    "- Is there anything we could verify with Anaconda?  or WSL?  \n",
    "- How would you update a repository?  Could you do that in script above?\n"
   ]
  }
 ],
 "metadata": {
  "kernelspec": {
   "display_name": "Python 3.10.6 64-bit",
   "language": "python",
   "name": "python3"
  },
  "language_info": {
   "codemirror_mode": {
    "name": "ipython",
    "version": 3
   },
   "file_extension": ".py",
   "mimetype": "text/x-python",
   "name": "python",
   "nbconvert_exporter": "python",
   "pygments_lexer": "ipython3",
   "version": "3.9.6"
  },
  "vscode": {
   "interpreter": {
    "hash": "aee8b7b246df8f9039afb4144a1f6fd8d2ca17a180786b69acc140d282b71a49"
   }
  }
 },
 "nbformat": 4,
 "nbformat_minor": 2
}
